{
    "cells": [
        {
            "cell_type": "markdown",
            "metadata": {},
            "source": [
                "# <center>Informatique tc3 (Projet Web) - TD1</center>"
            ]
        },
        {
            "cell_type": "markdown",
            "metadata": {},
            "source": [
                "## <center style=\"color: #66d\">R\u00e9cup\u00e9ration, mise en forme, et stockage de donn\u00e9es via Python / SQLite</center>"
            ]
        },
        {
            "cell_type": "markdown",
            "metadata": {},
            "source": [
                "Dans le cadre de ce TD nous r\u00e9cup\u00e9rerons en ligne des donn\u00e9es concernant des pays, que nous mettrons en forme et stockerons dans une base de donn\u00e9es afin de les utiliser pour obtenir des repr\u00e9sentations graphiques, tout cela \u00e0 l'aide de Python."
            ]
        },
        {
            "cell_type": "markdown",
            "metadata": {},
            "source": [
                "<h3 style=\"background-color:#eef; padding:0.5em\">1. Contexte et mise en place des outils"
            ]
        },
        {
            "cell_type": "markdown",
            "metadata": {},
            "source": [
                "La page wikip\u00e9dia d'un pays (cf. par exemple https://en.wikipedia.org/wiki/Zimbabwe) donne de nombreuses informations, souvent peu structur\u00e9es (texte de la page) mais dont certaines le sont suffisament pour pouvoir donner lieu \u00e0 un traitement automatique (cf. bo\u00eete d'informations situ\u00e9e \u00e0 droite de la page) :\n",
                "<img src=\"infobox.png\">\n",
                "<div style=\"text-align:center; font-size:80%; margin-top:0.5em\">Partie sup\u00e9rieure de la bo\u00eete d'information relative au Zimbabwe</div>"
            ]
        },
        {
            "cell_type": "markdown",
            "metadata": {
                "collapsed": true
            },
            "source": [
                "On peut ainsi esp\u00e9rer r\u00e9cup\u00e9rer des informations comme le nom officiel du pays, un lien vers une image du drapeau, une devise, un lien vers l'hymne national, le nom et les coordonn\u00e9es g\u00e9ographiques de la capitale, le nombre d'habitants, *etc.*"
            ]
        },
        {
            "cell_type": "markdown",
            "metadata": {},
            "source": [
                "L'objectif \u00e9tant de r\u00e9aliser une application d\u00e9livrant des informations sur de nombreux pays, il n'est pas envisageable d'interrroger wikip\u00e9dia \u00e0 chaque fois. La construction de notre application passera donc par une phase d'initialisation lors de laquelle les informations n\u00e9cessaires seront r\u00e9cup\u00e9r\u00e9es, puis stock\u00e9es dans une base de donn\u00e9es pour \u00eatre r\u00e9utilis\u00e9es par la suite."
            ]
        },
        {
            "cell_type": "markdown",
            "metadata": {},
            "source": [
                "Le syst\u00e8me de gestion de base de donn\u00e9es qui sera utilis\u00e9 pour la suite de ce TD et pour votre projet est SQLite. Ce syst\u00e8me tr\u00e8s simple fonctionne en stockant une base de donn\u00e9es dans un fichier unique au format <code>.sqlite</code>."
            ]
        },
        {
            "cell_type": "markdown",
            "metadata": {},
            "source": [
                "<b>1.1. Analyse des pages Wikip\u00e9dia :</b>\n",
                "    \n",
                "Pour r\u00e9cup\u00e9rer les informations qui nous int\u00e9ressent, il n'est pas question d'aspirer le contenu des  pages au format html, car d'une page Wikip\u00e9dia \u00e0 l'autre, html n'est pas utilis\u00e9 de mani\u00e8re suffisamment structur\u00e9e pour y retrouver les donn\u00e9es.\n",
                "\n",
                "On peut alors penser au format wiki, qui correspond au code source tell qu'il est \u00e9dit\u00e9 par les auteurs. On peut en avoir un aper\u00e7u \u00e0 l'adresse : https://en.wikipedia.org/w/index.php?title=Zimbabwe&action=edit. Attention toutefois \u00e0 ne pas en profiter pour modifier la page.\n",
                "\n",
                "Ce format est plus structurant et devrait pouvoir \u00eatre analys\u00e9 pour en extraire les informations...\n",
                "\n",
                "Pensons-nous \u00eatre les premiers \u00e0 nous poser cette question ? Sans doute pas :<br>\n",
                "cf. https://stackoverflow.com/questions/3312346/how-to-get-the-infobox-data-from-wikipedia\n",
                "\n",
                "Il existe diff\u00e9rentes solutions pour r\u00e9cup\u00e9rer les informations que nous recherchons, comme par exemple <a href=\"https://www.wikidata.org/wiki/Wikidata:Introduction/fr\">wikidata</a>, une base de donn\u00e9es en ligne, libre, collaborative, et multilingue, qui collecte des donn\u00e9es structur\u00e9es pour alimenter entre autres Wikip\u00e9dia et Wikimedia Commons. Toutefois, pour des raisons \u00e0 la fois p\u00e9dagogiques et de simplicit\u00e9, nous nous bornerons \u00e0 analyser le contenu des pages wikip\u00e9dia, technique connue sous le nom de <a href=\"https://en.wikipedia.org/wiki/Web_scraping\">Web scraping</a>.\n",
                "\n",
                "Nous utiliserons pour cela le module <code>wptools</code> disponible sur Github.\n",
                "Si votre poste est correctment configur\u00e9 avec la distribution Anaconda, le moyen le plus simple de l'installer est de lancer la commande suivante dans une fen\u00eatre terminal (en ajoutant \u00e9ventuellement l'option <tt>--user</tt> en cas d'\u00e9chec) :"
            ]
        },
        {
            "cell_type": "raw",
            "metadata": {},
            "source": [
                "pip install wptools"
            ]
        },
        {
            "cell_type": "markdown",
            "metadata": {},
            "source": [
                "<div style=\"background-color:#dde;padding:10px;border-radius:3px\">\n",
                "<b>Etape 1 - </b> Installer <code>wptools</code>, puis, apr\u00e8s avoir red\u00e9marr\u00e9 le noyau du notebook (cf. ic\u00f4ne <img src=\"restart_kernel.png\" style=\"display:inline; position:relative; top:-10px\">), ex\u00e9cuter la cellule suivante qui ne devrait pas produire d'erreur&nbsp;:"
            ]
        },
        {
            "cell_type": "code",
            "execution_count": 1,
            "metadata": {
                "collapsed": true
            },
            "outputs": [],
            "source": [
                "#\n",
                "# import du module d'analyse des pages wikip\u00e9dia\n",
                "#\n",
                "import wptools"
            ]
        },
        {
            "cell_type": "markdown",
            "metadata": {
                "collapsed": true
            },
            "source": [
                "<b>1.2. R\u00e9cup\u00e9ration d'information depuis une page Wikip\u00e9dia :</b>\n",
                "\n",
                "Premier essai :"
            ]
        },
        {
            "cell_type": "code",
            "execution_count": 2,
            "metadata": {
                "collapsed": false,
                "scrolled": true
            },
            "outputs": [
                {
                    "name": "stderr",
                    "output_type": "stream",
                    "text": [
                        "en.wikipedia.org (parse) Zimbabwe\n"
                    ]
                },
                {
                    "data": {
                        "text/plain": [
                            "{'GDP_PPP': '$41.031 billion',\n",
                            " 'GDP_PPP_per_capita': '$2,621',\n",
                            " 'GDP_PPP_year': '2019',\n",
                            " 'GDP_nominal': '$22.290 billion',\n",
                            " 'GDP_nominal_per_capita': '$1,424',\n",
                            " 'GDP_nominal_year': '2019',\n",
                            " 'Gini': '50.1',\n",
                            " 'Gini_year': '1995',\n",
                            " 'HDI': '0.563',\n",
                            " 'HDI_change': 'increase',\n",
                            " 'HDI_rank': '150th',\n",
                            " 'HDI_year': '2018',\n",
                            " 'area_km2': '390,757',\n",
                            " 'area_rank': '60th',\n",
                            " 'area_sq_mi': '150,871',\n",
                            " 'calling_code': '[[+263]]',\n",
                            " 'capital': '[[Harare]]',\n",
                            " 'cctld': '[[.zw]]',\n",
                            " 'common_name': 'Zimbabwe',\n",
                            " 'conventional_long_name': 'Republic of Zimbabwe',\n",
                            " 'coordinates': '{{Coord |17|50|S|31|3|E|type:city}}',\n",
                            " 'currency': '[[RTGS Dollar|Zimbabwean dollar]] (current) <br>',\n",
                            " 'demonym': 'Zimbabwean<br />Zimbo (colloquial)',\n",
                            " 'drives_on': '[[Right- and left-hand traffic|left]]',\n",
                            " 'established_date1': '11 November 1965',\n",
                            " 'established_date2': '2 March 1970',\n",
                            " 'established_date3': '1 June 1979',\n",
                            " 'established_date4': '18 April 1980',\n",
                            " 'established_date5': '15 May 2013',\n",
                            " 'established_event1': '[[Unilateral Declaration of Independence (Rhodesia)|Declared]]',\n",
                            " 'established_event2': '[[Rhodesia|Republic]]',\n",
                            " 'established_event3': '[[Zimbabwe Rhodesia]]',\n",
                            " 'established_event4': 'Republic of Zimbabwe',\n",
                            " 'established_event5': '[[Constitution of Zimbabwe|Current constitution]]',\n",
                            " 'ethnic_groups': '{{unbulleted list\\n| 99.38% [[Black African]] (over 80% [[Shona people|Shona]]; [[Northern Ndebele people|Ndebele]] are largest minority)\\n| |nowrap|0.22% [[White people in Zimbabwe|White African]]|\\n| 0.14% [[Coloured]]\\n| 0.08% [[Asian people|Asian]]\\n| 0.01% Other\\n| 0.18% Not Stated}} {{nowrap|0.22% [[White people in Zimbabwe|White African]]}}',\n",
                            " 'ethnic_groups_year': '2012 Census',\n",
                            " 'government_type': '[[Unitary state|Unitary]] [[Dominant-party system|dominant-party]] [[Presidential system|presidential]] [[constitutional republic]]',\n",
                            " 'image_coat': 'Coat of Arms of Zimbabwe.svg',\n",
                            " 'image_flag': 'Flag of Zimbabwe.svg',\n",
                            " 'image_map': 'Location Zimbabwe AU Africa.svg',\n",
                            " 'largest_city': 'Harare',\n",
                            " 'leader_name1': '[[Emmerson Mnangagwa]]',\n",
                            " 'leader_name2': '[[Constantino Chiwenga]] <br> [[Kembo Mohadi]]',\n",
                            " 'leader_title1': '[[President of Zimbabwe|President]]',\n",
                            " 'leader_title2': '[[Vice President of Zimbabwe|Vice Presidents]]',\n",
                            " 'legislature': '[[Parliament of Zimbabwe|Parliament]]',\n",
                            " 'lower_house': '[[House of Assembly (Zimbabwe)|National Assembly]]',\n",
                            " 'map_caption': '{{map caption |location_color|=| dark blue |region|=| the [[African Union]] |region_color|=| light blue}}',\n",
                            " 'national_anthem': '<br />\"[[National Anthem of Zimbabwe|Blessed be the land of Zimbabwe]]\" <div style= \"padding-top:0.5em;\"><center>[[File:Zimbabwe National Anthem.ogg]]</center></div>',\n",
                            " 'national_motto': '\"Unity, Freedom, Work\"',\n",
                            " 'native_name': '{{collapsible list\\n| titlestyle |=| background:transparent;text-align:center;line-height:normal;font-size:84%;\\n| title |=| 13 other official names\\n| |Infobox|subbox|=|yes|bodystyle|=|font-size:77%;font-weight:normal;\\n| rowclass1 |=| mergedrow | label1 |=| [[Shona language|Shona]]:\\n| data1 |=| |lang|sn|Nyika yeZimbabwe|\\n| rowclass2 |=| mergedrow | label2 |=| [[Northern Ndebele language|Ndebele]]:\\n| data2 |=| |lang|nd|Ilizwe leZimbabwe|\\n| rowclass3 |=| mergedrow | label3 |=| [[Chewa language|Chewa]]:\\n| data3 |=| |lang|ny|Dziko la Zimbabwe|\\n| rowclass4 |=| mergedrow | label4 |=| [[Sena language|Chibarwe]]:\\n| data4 |=| |lang|bwg|Dziko la Zimbabwe|\\n| rowclass5 |=| mergedrow | label5 |=| [[Kalanga language|Kalanga]]:\\n| data5 |=| |lang|kck|Hango yeZimbabwe|\\n| rowclass6 |=| mergedrow | label6 |=| [[Tshwa language|Khoisan]]:\\n| data6 |=| |lang|st|Zimbabwe N\u00f9|\\n| rowclass7 |=| mergedrow | label7 |=| [[Nambya language|Nambya]]:\\n| data7 |=| |lang|nmq|Inyika yeZimbabwe|\\n| rowclass8 |=| mergedrow | label8 |=| [[Ndau dialect|Ndau]]:\\n| data8 |=| |lang|ndc|Nyika yeZimbabwe|\\n| rowclass9 |=| mergedrow | label9 |=| [[Tsonga language|Shangani]]:\\n| data9 |=| |lang|ts|Tiko ra Zimbabwe|\\n| rowclass10 |=| mergedrow| label10 |=| [[Sesotho language|Sesotho]]:\\n| data10 |=| |lang|st|Naha ya Zimbabwe|\\n| rowclass11 |=| mergedrow| label11 |=| [[Tonga language (Zambia and Zimbabwe)|Tonga]]:\\n| data11 |=| |lang|st|Cisi ca Zimbabwe|\\n| rowclass12 |=| mergedrow| label12 |=| [[Venda language|Venda]]:\\n| data12 |=| |lang|ve|Shango \u1e3da Zimbabwe|\\n| rowclass13 |=| mergedrow| label13 |=| [[Xhosa language|Xhosa]]:\\n| data13 |=| |lang|xh|Ilizwe leZimbabwe|\\n|}} {{Infobox|subbox|=|yes|bodystyle|=|font-size:77%;font-weight:normal;\\n| rowclass1 |=| mergedrow | label1 |=| [[Shona language|Shona]]:\\n| data1 |=| |lang|sn|Nyika yeZimbabwe|\\n| rowclass2 |=| mergedrow | label2 |=| [[Northern Ndebele language|Ndebele]]:\\n| data2 |=| |lang|nd|Ilizwe leZimbabwe|\\n| rowclass3 |=| mergedrow | label3 |=| [[Chewa language|Chewa]]:\\n| data3 |=| |lang|ny|Dziko la Zimbabwe|\\n| rowclass4 |=| mergedrow | label4 |=| [[Sena language|Chibarwe]]:\\n| data4 |=| |lang|bwg|Dziko la Zimbabwe|\\n| rowclass5 |=| mergedrow | label5 |=| [[Kalanga language|Kalanga]]:\\n| data5 |=| |lang|kck|Hango yeZimbabwe|\\n| rowclass6 |=| mergedrow | label6 |=| [[Tshwa language|Khoisan]]:\\n| data6 |=| |lang|st|Zimbabwe N\u00f9|\\n| rowclass7 |=| mergedrow | label7 |=| [[Nambya language|Nambya]]:\\n| data7 |=| |lang|nmq|Inyika yeZimbabwe|\\n| rowclass8 |=| mergedrow | label8 |=| [[Ndau dialect|Ndau]]:\\n| data8 |=| |lang|ndc|Nyika yeZimbabwe|\\n| rowclass9 |=| mergedrow | label9 |=| [[Tsonga language|Shangani]]:\\n| data9 |=| |lang|ts|Tiko ra Zimbabwe|\\n| rowclass10 |=| mergedrow| label10 |=| [[Sesotho language|Sesotho]]:\\n| data10 |=| |lang|st|Naha ya Zimbabwe|\\n| rowclass11 |=| mergedrow| label11 |=| [[Tonga language (Zambia and Zimbabwe)|Tonga]]:\\n| data11 |=| |lang|st|Cisi ca Zimbabwe|\\n| rowclass12 |=| mergedrow| label12 |=| [[Venda language|Venda]]:\\n| data12 |=| |lang|ve|Shango \u1e3da Zimbabwe|\\n| rowclass13 |=| mergedrow| label13 |=| [[Xhosa language|Xhosa]]:\\n| data13 |=| |lang|xh|Ilizwe leZimbabwe|}} {{lang|sn|Nyika yeZimbabwe}} {{lang|nd|Ilizwe leZimbabwe}} {{lang|ny|Dziko la Zimbabwe}} {{lang|bwg|Dziko la Zimbabwe}} {{lang|kck|Hango yeZimbabwe}} {{lang|st|Zimbabwe N\u00f9}} {{lang|nmq|Inyika yeZimbabwe}} {{lang|ndc|Nyika yeZimbabwe}} {{lang|ts|Tiko ra Zimbabwe}} {{lang|st|Naha ya Zimbabwe}} {{lang|st|Cisi ca Zimbabwe}} {{lang|ve|Shango \u1e3da Zimbabwe}} {{lang|xh|Ilizwe leZimbabwe}}',\n",
                            " 'official_languages': '[[Languages of Zimbabwe|16 languages]]: {{hlist | [[Chewa language|Chewa]] | [[Chibarwe]] | [[English language|English]] | [[Kalanga language|Kalanga]] |\"[[Khoisan languages|Koisan]]\" (presumably [[Tsoa language|Tsoa]]) | [[Nambya language|Nambya]] | [[Ndau language|Ndau]] | [[Northern Ndebele language|Ndebele]] | [[Shangani language|Shangani]] |[[Shona language|Shona]] |\"[[Zimbabwean sign languages|sign language]]\" |[[Sotho language|Sotho]] | [[Tonga language (Zambia)|Tonga]] | [[Tswana language|Tswana]] | [[Venda language|Venda]] | [[Xhosa language|Xhosa]]}}',\n",
                            " 'percent_water': '1',\n",
                            " 'population_census': '12,973,808',\n",
                            " 'population_census_year': '2012',\n",
                            " 'population_density_km2': '26',\n",
                            " 'population_density_rank': '170th',\n",
                            " 'population_density_sq_mi': '57',\n",
                            " 'population_estimate': '{{UN_Population |Zimbabwe}} {{UN_Population |ref}}',\n",
                            " 'population_estimate_rank': '73rd',\n",
                            " 'population_estimate_year': '{{UN_Population |Year}}',\n",
                            " 'sovereignty_type': '[[Independence]] {{nobold |from the [[United Kingdom]]}}',\n",
                            " 'time_zone': '[[Central Africa Time|CAT]]',\n",
                            " 'upper_house': '[[Senate of Zimbabwe|Senate]]',\n",
                            " 'utc_offset': '+2'}"
                        ]
                    },
                    "execution_count": 2,
                    "metadata": {},
                    "output_type": "execute_result"
                }
            ],
            "source": [
                "page = wptools.page('Zimbabwe')\n",
                "page.get_parse(False)\n",
                "page.data['infobox']"
            ]
        },
        {
            "cell_type": "markdown",
            "metadata": {},
            "source": [
                "Remarques :\n",
                "* La commande <code>wptools.page()</code> effectue une requ\u00eate HTTP vers la page wikip\u00e9dia dont on lui passe le nom.\n",
                "* Le code ci-dessus demande ensuite d'analyser le contenu de la page, puis de r\u00e9cup\u00e9rer le contenu de la bo\u00eete d'information.\n",
                "* <code>page.data['infobox']</code> est un dictionnaire. Charge \u00e0 nous maintenant de r\u00e9cup\u00e9rer les informations qui nous int\u00e9ressent.\n",
                "\n",
                "<b>N.B.1</b> <code>wptools</code> \u00e9met des messages d'information (sur fond rose dans le notebook), qu'on pourra emp\u00eacher plus tard.<br>\n",
                "<b>N.B.2</b> La documentation de <code>wptools</code> est consultable \u00e0 l'adresse https://github.com/siznax/wptools\n"
            ]
        },
        {
            "cell_type": "markdown",
            "metadata": {},
            "source": [
                "<div style=\"background-color:#dde;padding:10px;border-radius:3px\">\n",
                "<b>Etape 2 - </b> A partir du code fourni, \u00e9crire une fonction <code>get_info(country)</code> qui prend en argument le nom de la page wikip\u00e9dia du pays \u00e0 analyser et renvoie la bo\u00eete d'information obtenue."
            ]
        },
        {
            "cell_type": "code",
            "execution_count": 3,
            "metadata": {
                "collapsed": true,
                "util.bundle": "correcteur"
            },
            "outputs": [],
            "source": [
                "# votre code ici"
            ]
        },
        {
            "cell_type": "markdown",
            "metadata": {},
            "source": [
                "<div style=\"background-color:#fdd;padding:10px;border-radius:3px\">\n",
                "<b>Remarque importante - </b> Si vous avez du mal \u00e0 installer wp_tools, sachez qu'on l'introduit ici pour expliquer la d\u00e9marche. Par contre vous n'en aurez rapidement plus besoin dans la suite puisqu'on vous fournira les donn\u00e9es afin de vous \u00e9viter de faire de trop fr\u00e9quentes requ\u00eates sur wikip\u00e9dia durant le d\u00e9roulement du TD et du projet.\n",
                "\n",
                "Pour contourner wp_tools, d\u00e9veloppez la fonction <code>get_info</code> \u00e0 partir du code permettant de lire un fichier zip donn\u00e9 en question 3.2. De cette mani\u00e8re vous acc\u00e8derez aux donn\u00e9es via le fichier zip fourni, plut\u00f4t qu'en envoyant syst\u00e9matiquement des requ\u00eates \u00e0 wikip\u00e9dia. Toute la suite exploite le r\u00e9sultat de cette fonction, et ne posera donc pas de probl\u00e8me en l'absence de wptools."
            ]
        },
        {
            "cell_type": "code",
            "execution_count": 4,
            "metadata": {
                "collapsed": false,
                "util.bundle": "correcteur"
            },
            "outputs": [],
            "source": [
                "# votre code ici"
            ]
        },
        {
            "cell_type": "markdown",
            "metadata": {},
            "source": [
                "<div style=\"background-color:#dde;padding:10px;border-radius:3px\">\n",
                "<b>Etape 3 - </b>  Ecrire une fonction <code>print_capital(info)</code> qui prend en argument la bo\u00eete d'information renvoy\u00e9e par la fonction pr\u00e9c\u00e9dente, et affiche le nom du pays, la capitale et ses coordonn\u00e9es g\u00e9ographiques *(peu importe le format pour l'instant)*."
            ]
        },
        {
            "cell_type": "code",
            "execution_count": 5,
            "metadata": {
                "collapsed": false,
                "util.bundle": "correcteur"
            },
            "outputs": [],
            "source": [
                "# votre code ici"
            ]
        },
        {
            "cell_type": "markdown",
            "metadata": {},
            "source": [
                "<div style=\"background-color:#dde;padding:10px;border-radius:3px\">\n",
                "<b>Etape 4 - </b>  Tester ces fonctions avec quelques pays, par exemple le Zimbabwe, le Japon,  l'Allemagne, le Canada ou l'Australie."
            ]
        },
        {
            "cell_type": "code",
            "execution_count": 6,
            "metadata": {
                "collapsed": false,
                "util.bundle": "correcteur"
            },
            "outputs": [],
            "source": [
                "# votre code ici"
            ]
        },
        {
            "cell_type": "markdown",
            "metadata": {},
            "source": [
                "<b>1.3 Mise en forme des donn\u00e9es</b>"
            ]
        },
        {
            "cell_type": "markdown",
            "metadata": {},
            "source": [
                "Il ne vous aura pas \u00e9chapp\u00e9 que le format des informations r\u00e9cup\u00e9r\u00e9es n'est pas optimal (crochets autour du nom de la capitale, pr\u00e9sence parfois d'informations suppl\u00e9mentaires non d\u00e9sir\u00e9es, coordonn\u00e9es peu exploitables telles quelles). Pour certains pays, m\u00eame la r\u00e9cup\u00e9ration du nom du pays n'est pas triviale."
            ]
        },
        {
            "cell_type": "markdown",
            "metadata": {},
            "source": [
                "Les <a href=\"https://docs.python.org/3/library/re.html\">expressions r\u00e9guli\u00e8res</a> sont un outil puissant permettant de r\u00e9cup\u00e9rer des informations dans une cha\u00eene de caract\u00e8res au format connu mais complexe. Il s'agit d'un m\u00e9canisme pr\u00e9sent dans de nombreux langages de programmation, permettant d'analyser des cha\u00eenes de caract\u00e8res et d'en extraire de l'information. \n",
                "\n",
                "Le code ci-dessous montre comment r\u00e9cup\u00e9rer le nom de la capitale, compris entre les doubles crochets <span style=\"color:#800\"><i>(\u00e0 condition bien s\u00fbr que vous ayez bien r\u00e9alis\u00e9 la fonction <tt>get_info()</tt> comme demand\u00e9 ci-dessus)</i></span> :<code>"
            ]
        },
        {
            "cell_type": "code",
            "execution_count": 7,
            "metadata": {
                "collapsed": false
            },
            "outputs": [
                {
                    "name": "stdout",
                    "output_type": "stream",
                    "text": [
                        "Cha\u00eene brute : [[Harare]]\n",
                        "Capitale : Harare\n"
                    ]
                }
            ],
            "source": [
                "#\n",
                "# import du module permettant d'exploiter des expressions r\u00e9guli\u00e8res\n",
                "#\n",
                "import re\n",
                "\n",
                "zw = get_info('Zimbabwe')\n",
                "capital = zw['capital']\n",
                "print('Cha\u00eene brute : {}'.format(capital))\n",
                "\n",
                "# Analyse de la cha\u00eene brute en la comparant \u00e0 [[*]], et en m\u00e9morisant le contenu des crochets\n",
                "m = re.match(\"\\[\\[(\\w+)\\]\\]\", capital)\n",
                "\n",
                "capital = m.group(1)\n",
                "print('Capitale : {}'.format(capital))"
            ]
        },
        {
            "cell_type": "markdown",
            "metadata": {},
            "source": [
                "<div style=\"background-color:#dde;padding:10px;border-radius:3px\">\n",
                "<b>Etape 5 - </b>  Ecrire une fonction <code>get_name(info)</code> qui prend en argument une infobox de pays et renvoie le nom officiel du pays. Cette information se trouve a priori dans le champ nomm\u00e9 <code>conventional_long_name</code>."
            ]
        },
        {
            "cell_type": "code",
            "execution_count": 8,
            "metadata": {
                "collapsed": false,
                "util.bundle": "correcteur",
                "util.bundle.source": [
                    "#\n",
                    "# R\u00e9cup\u00e9ration du nom complet d'un pays depuis l'infobox wikip\u00e9dia\n",
                    "#"
                ]
            },
            "outputs": [],
            "source": [
                "#\n",
                "# R\u00e9cup\u00e9ration du nom complet d'un pays depuis l'infobox wikip\u00e9dia\n",
                "#"
            ]
        },
        {
            "cell_type": "markdown",
            "metadata": {},
            "source": [
                "<div style=\"background-color:#dde;padding:10px;border-radius:3px\">\n",
                "<b>Etape 6 - </b>  Tester avec les pays sugg\u00e9r\u00e9s plus haut.\n",
                "</div>"
            ]
        },
        {
            "cell_type": "code",
            "execution_count": 9,
            "metadata": {
                "collapsed": false,
                "util.bundle": "correcteur",
                "util.bundle.source": [
                    "# test de la fonction get_name(info)"
                ]
            },
            "outputs": [],
            "source": [
                "# test de la fonction get_name(info)"
            ]
        },
        {
            "cell_type": "markdown",
            "metadata": {},
            "source": [
                "<div style=\"background-color:#ded;padding:10px;border-radius:3px\">\n",
                "<b>N.B.</b> \n",
                "Pour certains pays <i>(Singapour, Vanuatu...)</i> le champ <code>conventional_long_name</code> n'est pas pr\u00e9sent, pour d'autres l'information est plus complexe et donc plus difficile \u00e0 extraire. Il est donc pr\u00e9vu que vous compl\u00e9tiez cette fonction (et les suivantes) au fur et \u00e0 mesure des besoins, \u00e9ventuellement mais pas n\u00e9cessairement au cours de ce TD, sinon lors des TDs suivants ou de votre projet, pour arriver \u00e0 traiter tous les pays qui vous concernent. N'h\u00e9sitez pas pour cela \u00e0 traiter les cas particuliers comme tels si n\u00e9cessaire.\n",
                "</div>\n",
                "\n",
                "Allez donc au plus simple pour l'instant, mais pr\u00e9voyez de compl\u00e9ter ce code par la suite.\n"
            ]
        },
        {
            "cell_type": "markdown",
            "metadata": {},
            "source": [
                "<div style=\"background-color:#dde;padding:10px;border-radius:3px\">\n",
                "<b>Etape 7 - </b>  Dans la m\u00eame d\u00e9marche, \u00e9crire une fonction <code>get_capital(info)</code> qui prend en argument une infobox de pays et renvoie une cha\u00eene de caract\u00e8res avec le nom de la capitale, et tester avec les pays d\u00e9j\u00e0 \u00e9voqu\u00e9s plus haut."
            ]
        },
        {
            "cell_type": "code",
            "execution_count": 10,
            "metadata": {
                "collapsed": false,
                "util.bundle": "correcteur",
                "util.bundle.source": [
                    "#\n",
                    "# R\u00e9cup\u00e9ration de la capitale d'un pays depuis l'infobox wikip\u00e9dia\n",
                    "#"
                ]
            },
            "outputs": [],
            "source": [
                "#\n",
                "# R\u00e9cup\u00e9ration de la capitale d'un pays depuis l'infobox wikip\u00e9dia\n",
                "#"
            ]
        },
        {
            "cell_type": "code",
            "execution_count": 11,
            "metadata": {
                "collapsed": false,
                "util.bundle": "correcteur",
                "util.bundle.source": [
                    "# test de la fonction get_capital(info)"
                ]
            },
            "outputs": [],
            "source": [
                "# test de la fonction get_capital(info)"
            ]
        },
        {
            "cell_type": "markdown",
            "metadata": {},
            "source": [
                "<div style=\"background-color:#dde;padding:10px;border-radius:3px\">\n",
                "<b>Etape 8 - </b>  Proc\u00e9der de m\u00eame avec les coordonn\u00e9es g\u00e9ographiques. Il sera n\u00e9cessaire de convertir les expressions en degr\u00e9s, minutes, secondes, avec indication de la direction N/S et E/O, pour obtenir une information en degr\u00e9s sous la forme d'un nombre d\u00e9cimal, positif ou n\u00e9gatif.\n",
                "\n",
                "La fonction <code>get_coords(info)</code> devra renvoyer un dictionnaire avec deux \u00e9l\u00e9ments respectivement nomm\u00e9s <code>lat</code> et <code>lon</code>."
            ]
        },
        {
            "cell_type": "code",
            "execution_count": 12,
            "metadata": {
                "collapsed": true,
                "util.bundle": "correcteur",
                "util.bundle.source": [
                    "#\n",
                    "# R\u00e9cup\u00e9ration des coordonn\u00e9es de la capitale depuis l'infobox d'un pays\n",
                    "#"
                ]
            },
            "outputs": [],
            "source": [
                "#\n",
                "# R\u00e9cup\u00e9ration des coordonn\u00e9es de la capitale depuis l'infobox d'un pays\n",
                "#"
            ]
        },
        {
            "cell_type": "code",
            "execution_count": 13,
            "metadata": {
                "collapsed": false,
                "util.bundle": "correcteur",
                "util.bundle.source": [
                    "# test de la fonction get_coords(info)"
                ]
            },
            "outputs": [],
            "source": [
                "# test de la fonction get_coords(info)"
            ]
        },
        {
            "cell_type": "markdown",
            "metadata": {},
            "source": [
                "<h3 style=\"background-color:#eef; padding:0.5em\">2. Mise en place d'une base de donn\u00e9es</h3>\n",
                "\n",
                "<b>2.1. Cr\u00e9ation de la base :</b>\n",
                "\n",
                "En Python, la cr\u00e9ation d'une base de donn\u00e9es SQLite est particuli\u00e8rement simple \u00e0 effectuer :"
            ]
        },
        {
            "cell_type": "code",
            "execution_count": 14,
            "metadata": {
                "collapsed": false
            },
            "outputs": [],
            "source": [
                "#\n",
                "# import du module d'acc\u00e8s \u00e0 la base de donn\u00e9es\n",
                "#\n",
                "import sqlite3\n",
                "\n",
                "#\n",
                "# Ouverture d'une connexion avec la base de donn\u00e9es\n",
                "#\n",
                "conn = sqlite3.connect('pays.sqlite')"
            ]
        },
        {
            "cell_type": "markdown",
            "metadata": {},
            "source": [
                "Ce code permet d'ouvrir une connexion avec la base de donn\u00e9es des pays. Si elle n'existe pas, elle est cr\u00e9\u00e9e !\n",
                "\n",
                "<div style=\"background-color:#dde;padding:10px;border-radius:3px\">\n",
                "<b>Etape 9 - </b> V\u00e9rifier l'apparition d'un fichier nomm\u00e9 <code>pays.sqlite</code> dans le r\u00e9pertoire dans lequel se trouve le pr\u00e9sent notebook.\n",
                "</div>\n",
                "\n",
                "<img src=\"pays_sqlite.png\">"
            ]
        },
        {
            "cell_type": "markdown",
            "metadata": {},
            "source": [
                "Toutes les op\u00e9rations sur une base de donn\u00e9es de ce type peuvent \u00eatre effectu\u00e9es en Python via les fonctions pr\u00e9sentes au sein du module <code>sqlite3</code>.\n",
                "\n",
                "Cependant, pour manipuler de mani\u00e8re interactive le contenu de la base <i>(cr\u00e9er, supprimer ou modifier des tables et des enregistrements, effectuer des requ\u00eates SQL...)</i> il existe des outils adapt\u00e9s.\n",
                "\n",
                "L'outil retenu dans le cadre de ce cours s'appelle \"DB Browser for SQLite\". C'est un logiciel libre qui existe pour toutes les plateformes (Windows, MacOs, nombreuses distribution Linux et Unix...).\n",
                "\n",
                "<div style=\"background-color:#dde;padding:10px;border-radius:3px;margin-top:1.33em\">\n",
                "<b>Etape 10 - </b>T\u00e9l\u00e9charger et installer <a href=\"http://sqlitebrowser.org/\">DB Browser for SQLite</a> en suivant les instructions d'installation en fonction de votre syst\u00e8me d'exploitation.\n",
                "</div>\n",
                "\n",
                "D\u00e9marrer DB Browser for SQLite en ouvrant la base de donn\u00e9es (vide pour l'instant) qui vient d'\u00eatre cr\u00e9\u00e9e.\n",
                "\n",
                "<img src=\"empty_db.png\" width=\"600px\" style=\"box-shadow:3px 3px 3px #888\">\n",
                "<div style=\"text-align:center; font-size:80%; margin-top:0.5em\">Interface de DB Browser for SQLite</div>"
            ]
        },
        {
            "cell_type": "markdown",
            "metadata": {},
            "source": [
                "<b>2.2. Cr\u00e9ation d'une table</b>\n",
                "\n",
                "Avant de pouvoir enregistrer dans la base de donn\u00e9es les informations que nous sommes maintenant capables de r\u00e9cup\u00e9rer depuis wikip\u00e9dia, il est n\u00e9cessaire de d\u00e9crire leur format en cr\u00e9ant une table.\n",
                "\n",
                "<div style=\"background-color:#dde;padding:10px;border-radius:3px\">\n",
                "<b>Etape 11 - </b> Via l'interface de DB Browser for SQLite, cr\u00e9er une table nomm\u00e9e \"countries\" destin\u00e9e \u00e0 recevoir les informations extraites de wikip\u00e9dia, avec les champs suivants (d\u00e9crits ici en langage SQL) <b>en n'oubliant pas d'enregistrer les modifications</b> :"
            ]
        },
        {
            "cell_type": "raw",
            "metadata": {
                "collapsed": true
            },
            "source": [
                "CREATE TABLE `countries` (              -- la table est nomm\u00e9 \"countries\"\n",
                "\t`wp`\tTEXT NOT NULL UNIQUE,       -- nom de la page wikip\u00e9dia, non nul, unique\n",
                "\t`name`\tTEXT,                       -- nom complet du pays\n",
                "\t`capital`\tTEXT,                   -- nom de la capitale\n",
                "\t`latitude`\tREAL,                   -- latitude, champ num\u00e9rique \u00e0 valeur d\u00e9cimale\n",
                "\t`longitude`\tREAL,                   -- longitude, champ num\u00e9rique \u00e0 valeur d\u00e9cimale\n",
                "\tPRIMARY KEY(`wp`)                   -- wp est la cl\u00e9 primaire\n",
                ");"
            ]
        },
        {
            "cell_type": "markdown",
            "metadata": {},
            "source": [
                "<img src=\"table_countries.png\" style=\"width:500px;border:1px solid #ccc; box-shadow:3px 3px 3px #888\">\n",
                "<div style=\"text-align:center; font-size:80%; margin-top:0.5em\">Visualisation de la table countries dans DB Browser for SQLite</div>"
            ]
        },
        {
            "cell_type": "markdown",
            "metadata": {},
            "source": [
                "<b>2.3. Ecriture dans la base</b>\n",
                "\n",
                "Via Python, l'\u00e9criture d'un enregistrement dans la base s'effectue en soumettant une requ\u00eate SQL INSERT. En supposant que la variable zw contient l'infobox r\u00e9cup\u00e9r\u00e9e sur wikip\u00e9dia au sujet du Zimbabwe, voici comment proc\u00e9der :"
            ]
        },
        {
            "cell_type": "raw",
            "metadata": {},
            "source": [
                "# ouverture d'une connexion avec la base de donn\u00e9es\n",
                "conn = sqlite3.connect('pays.sqlite')\n",
                "\n",
                "# pr\u00e9paration de la commande SQL\n",
                "c = conn.cursor()\n",
                "sql = 'INSERT INTO countries VALUES (?, ?, ?, ?, ?)'\n",
                "\n",
                "# les infos \u00e0 enregistrer\n",
                "name = get_name(zw)\n",
                "capital = get_capital(zw)\n",
                "coords = get_coords(zw)\n",
                "\n",
                "# soumission de la commande (noter que le second argument est un tuple)\n",
                "c.execute(sql,('Zimbabwe',name, capital, coords['lat'],coords['lon']))\n",
                "conn.commit()"
            ]
        },
        {
            "cell_type": "markdown",
            "metadata": {},
            "source": [
                "<div style=\"background-color:#dde;padding:10px;border-radius:3px\">\n",
                "<b>Etape 12 - </b> En vous basant sur le code ci-dessus, cr\u00e9er une fonction <code>save_country(conn,country,info)</code> qui enregistre les information dans la base de donn\u00e9es, et dont les arguments sont la connexion ouverte avec la base de donn\u00e9es, le nom du pays et l'infobox r\u00e9cup\u00e9r\u00e9e sur wikip\u00e9dia."
            ]
        },
        {
            "cell_type": "code",
            "execution_count": 15,
            "metadata": {
                "collapsed": true,
                "util.bundle": "correcteur"
            },
            "outputs": [],
            "source": [
                "# votre code ici"
            ]
        },
        {
            "cell_type": "markdown",
            "metadata": {},
            "source": [
                "Tester avec au moins un pays, et v\u00e9rifier \u00e0 l'aide de DB Browser que l'enregistrement a bien \u00e9t\u00e9 effectu\u00e9 :\n",
                "\n",
                "<img src=\"enregistrement_zw.png\" style=\"width:500px; border:1px solid #ccc;box-shadow:3px 3px 3px #888\"/>\n",
                "<div style=\"text-align:center; font-size:80%; margin-top:0.5em\">Visualisation d'un enregistrement dans DB Browser for SQLite</div>"
            ]
        },
        {
            "cell_type": "code",
            "execution_count": 16,
            "metadata": {
                "collapsed": true,
                "util.bundle": "correcteur",
                "util.bundle.source": [
                    "# votre code ici"
                ]
            },
            "outputs": [],
            "source": [
                "# votre code ici"
            ]
        },
        {
            "cell_type": "markdown",
            "metadata": {},
            "source": [
                "<div style=\"background-color:#dde;padding:10px;border-radius:3px\">\n",
                "<b>Etape 13 - </b> Cr\u00e9er une fonction <code>read_country(conn,country)</code> dont les arguments sont la connexion ouverte avec la base de donn\u00e9es et le nom du pays, qui tente de lire les informations du pays dans la base de donn\u00e9es et les renvoie, ou renvoie None si le pays n'existe pas dans la base."
            ]
        },
        {
            "cell_type": "code",
            "execution_count": 17,
            "metadata": {
                "collapsed": false,
                "util.bundle": "correcteur"
            },
            "outputs": [],
            "source": [
                "# votre code ici"
            ]
        },
        {
            "cell_type": "markdown",
            "metadata": {},
            "source": [
                "<h3 style=\"background-color:#efe; padding:0.5em\">3. Pour aller plus loin...</h3>\n",
                "\n",
                "... et progresser vers la r\u00e9alisation de votre projet, il s'agit maintenant d'extraire les informations de la page wikip\u00e9dia de chacun des pays du continent qui vous concerne, et de les ins\u00e9rer dans la base de donn\u00e9es."
            ]
        },
        {
            "cell_type": "markdown",
            "metadata": {},
            "source": [
                "<b>3.1. Vous avez dit scraping ?</b>\n",
                "\n",
                "Le scraping syst\u00e9matique de nombreuses pages peut potentiellement prendre du temps, et ce d'autant plus que le serveur de wikip\u00e9dia semble devenir r\u00e9ticent \u00e0 r\u00e9pondre lorsqu'on lui transmet des requ\u00eates en rafale \u00e0 une fr\u00e9quence peu cr\u00e9dible pour un op\u00e9rateur humain *(il se prot\u00e8ge contre les attaques par d\u00e9ni de service DoS)*.\n",
                "\n",
                "Pour cette raison, pour vous permettre d'\u00eatre plus efficaces dans cette \u00e9tape, et la fra\u00eecheur des informations r\u00e9cup\u00e9r\u00e9es n'\u00e9tant pas un crit\u00e8re fondamental pour votre application, nous vous fournissons un fichier zip par continent, contenant pour chacun des pays concern\u00e9s un fichier au format json avec le contenu de l'infobox tel que r\u00e9cup\u00e9r\u00e9 sur la page wikip\u00e9dia.\n",
                "\n",
                "<img src=\"south_america_zip.png\" width=\"400\" style=\"border:1px solid #1883d7; box-shadow:3px 3px 3px #888\">\n",
                "<div style=\"text-align:center; font-size:80%; margin-top:0.5em\">Contenu du fichier south_america.zip</div>\n",
                "\n",
                "Le nom des fichiers json correspond au nom de la page wikip\u00e9dia du pays, et au champ que nous avons nomm\u00e9 <code>wp</code> dans la base de donn\u00e9es.\n",
                "\n",
                "<b>Rappel :</b> Affectation des continents aux groupes de projet :\n",
                "* projet A : Afrique\n",
                "* projet B : Asie\n",
                "* projet C : Europe\n",
                "* projet D : Am\u00e9rique du nord\n",
                "* projet E : Am\u00e9rique du sud et Oc\u00e9anie\n",
                "\n",
                "Pour information, la liste des pays par continents peut \u00e9galement se trouver sur le site https://www.countries-ofthe-world.com/. "
            ]
        },
        {
            "cell_type": "markdown",
            "metadata": {},
            "source": [
                "<b>3.2. Initialisation de la base</b>\n",
                "\n",
                "<div style=\"background-color:#ded;padding:10px;border-radius:3px\">\n",
                "<b>TODO - </b> Ecrire un programme qui parcourt le contenu du (ou des) fichier(s) zip qui vous concerne(nt) et \u00e9crit dans la base de donn\u00e9es les informations extraites de l'infobox de chacun des pays \u00e0 l'aide des fonctions pr\u00e9c\u00e9demment d\u00e9velopp\u00e9es.\n",
                "</div>\n",
                "<p>\n",
                "Voici comment obtenir la liste des documents contenus dans un fichier zip et r\u00e9cup\u00e9rer le contenu d'une infobox <i>(\u00e0 vous de g\u00e9n\u00e9raliser)</i> :\n",
                "</p>"
            ]
        },
        {
            "cell_type": "code",
            "execution_count": 18,
            "metadata": {
                "collapsed": false,
                "scrolled": true
            },
            "outputs": [
                {
                    "name": "stdout",
                    "output_type": "stream",
                    "text": [
                        "['Australia.json', 'Fiji.json', 'Kiribati.json', 'Marshall_Islands.json', 'Federated_States_of_Micronesia.json', 'Nauru.json', 'New_Zealand.json', 'Palau.json', 'Papua_New_Guinea.json', 'Samoa.json', 'Solomon_Islands.json', 'Tonga.json', 'Tuvalu.json', 'Vanuatu.json']\n",
                        "\n",
                        "{'coordinates': '{{Coord|display|=|t}}', 'leader_name2': '[[Charlot Salwai]]', 'conventional_long_name': 'Republic of Vanuatu', 'native_name': '{{unbulleted list|item_style|=|font-size:88%; |native name|bi|Ripablik blong Vanuatu|italic|=|no| |native name|fr|R\u00e9publique de Vanuatu|italic|=|no}} {{native name|bi|Ripablik blong Vanuatu|italic|=|no}} {{native name|fr|R\u00e9publique de Vanuatu|italic|=|no}}', 'image_flag': 'Flag of Vanuatu (official).svg', 'image_coat': 'Coat of Arms of Vanuatu.svg', 'common_name': 'Vanuatu', 'symbol_type': 'Coat of arms', 'national_motto': '{{native phrase|bi|\"Long God yumi stanap\"|italics|=|off|nolink|=|on}} <br/> {{native phrase|fr|Nous nous tenons devant Dieu|italics|=|off|nolink|=|on}} <br/> {{small|\"In God we stand\"}} {{lower|0.2em|ref|{{cite web |last1=Vanuatu Daily Post |first1=Harrison Selmen|url=http://www.dailypost.vu/content/santo-chiefs-concerned-over-slow-pace-development-sanma?page=7&quicktabs_1=0 |title=Santo chiefs concerned over slow pace of development in Sanma|date=17 July 2011 |accessdate=29 August 2011}}|</ref>|sfn|Lynch|Pat|1993|p|=|319}} {{sfn|Lynch|Pat|1993|p|=|319}}', 'national_anthem': \"{{native name|bi|[[Yumi, Yumi, Yumi]]|nolink|=|on}} <br/> {{small|''We, We, We''}} <br/><center>[[File:United States Navy Band - Yumi, Yumi, Yumi.ogg]]</center>\", 'image_map': 'Vanuatu on the globe (Polynesia centered).svg', 'image_map2': 'Vanuatu - Location Map (2013) - VUT - UNOCHA.svg', 'capital': '[[Port Vila]]', 'largest_city': 'Port Vila', 'official_languages': '{{unbulleted list | [[Bislama language|Bislama]] | [[English language|English]] | [[French language|French]]}}', 'ethnic_groups': '{{unbulleted list |98.5% [[Ni-Vanuatu]] |1.5% Others}}', 'ethnic_groups_year': '1999', 'demonym': 'Ni-Vanuatu and Vanuatuan', 'government_type': '{{nowrap|[[Unitary state|Unitary]] [[Parliamentary republic|parliamentary]]}} [[republic]]', 'leader_title1': '[[President of Vanuatu|President]]', 'leader_name1': '[[Tallis Obed Moses]]', 'leader_title2': '[[Prime Minister of Vanuatu|Prime Minister]]', 'legislature': '[[Parliament of Vanuatu|Parliament]]', 'established_event1': 'from [[France]] and the [[United Kingdom]]', 'sovereignty_type': 'Independence', 'established_date1': '30 July 1980', 'established_event2': '[[United Nations Security Council Resolution 489|Admitted to the]] [[United Nations]]', 'established_date2': '15 September 1981', 'area_km2': '12,189', 'area_rank': '157th', 'area_sq_mi': '{{convert|12190|km2|sqmi|disp|=|output number only}}', 'population_census': '272,459', 'population_census_year': '2016', 'population_density_km2': '19.7', 'population_density_rank': '188th', 'population_density_sq_mi': '51', 'GDP_PPP': '$820&nbsp;million', 'GDP_PPP_year': '2018', 'GDP_PPP_rank': '178th', 'GDP_PPP_per_capita': '$2,850', 'GDP_PPP_per_capita_rank': '155th', 'GDP_nominal': '$957&nbsp;million', 'GDP_nominal_year': '2018', 'GDP_nominal_rank': '175th', 'GDP_nominal_per_capita': '$3,327', 'GDP_nominal_per_capita_rank': '124th', 'Gini': '37.6', 'Gini_year': '2010', 'HDI': '0.597', 'HDI_year': '2015', 'HDI_change': 'decrease', 'HDI_rank': '134th', 'currency': '[[Vanuatu vatu]]', 'currency_code': 'VUV', 'time_zone': 'VUT (Vanuatu Time)', 'utc_offset': '+11', 'drives_on': 'right', 'calling_code': '[[+678]]', 'cctld': '[[.vu]]'}\n"
                    ]
                }
            ],
            "source": [
                "from zipfile import ZipFile\n",
                "import json\n",
                "\n",
                "with ZipFile('oceania.zip','r') as z:\n",
                "    \n",
                "    # liste des documents contenus dans le fichier zip\n",
                "    print(z.namelist())\n",
                "    print()\n",
                "    \n",
                "    # infobox de l'un des pays\n",
                "    info = json.loads(z.read('Vanuatu.json'))\n",
                "    print(info)"
            ]
        },
        {
            "cell_type": "code",
            "execution_count": 19,
            "metadata": {
                "collapsed": false,
                "util.bundle": "correcteur",
                "util.bundle.source": [
                    "#\n",
                    "# Initialisation des informations dans la base de donn\u00e9es\n",
                    "#"
                ]
            },
            "outputs": [],
            "source": [
                "#\n",
                "# Initialisation des informations dans la base de donn\u00e9es\n",
                "#"
            ]
        },
        {
            "cell_type": "markdown",
            "metadata": {},
            "source": [
                "<b>3.3. S'amuser avec le contenu de la base de donn\u00e9es</b>\n",
                "\n",
                "Maintenant que nous disposons des coordonn\u00e9es d'un certain nombre de capitales, il est d'ores et d\u00e9j\u00e0 possible de construire des requ\u00eates SQL pour r\u00e9pondre \u00e0 des questions comme :\n",
                "\n",
                "* Quel est le pays (avec sa capitale et ses coordonn\u00e9es) dont la capitale se situe le plus au nord ?\n",
                "* Quel est le pays (avec sa capitale et ses coordonn\u00e9es) dont la capitale se situe le plus \u00e0 l'est ?\n",
                "* Quels sont les pays dont la capitale se situe plus au nord que celle d'un pays donn\u00e9 ?\n",
                "* Quel est le pays dont la capitale se trouve le plus pr\u00e8s de celle d'un pays donn\u00e9 ?\n",
                "* ad libitum...\n",
                "\n",
                "<div style=\"background-color:#ded;padding:10px;border-radius:3px\">\n",
                "<b>SUGGESTION - </b> Se prendre au jeu et imaginer les requ\u00eates SQL permettant de r\u00e9pondre \u00e0 certaines de ces questions..."
            ]
        },
        {
            "cell_type": "code",
            "execution_count": 20,
            "metadata": {
                "collapsed": false,
                "util.bundle": "correcteur"
            },
            "outputs": [],
            "source": [
                "# votre code ici"
            ]
        },
        {
            "cell_type": "markdown",
            "metadata": {},
            "source": [
                "<b>3.4. Renseigner la base avec l'ensemble des informations n\u00e9cessaires au fonctionnement de l'application r\u00eav\u00e9e</b>\n",
                "\n",
                "Les informations actuellement collect\u00e9es permettront de r\u00e9aliser une application minimale.\n",
                "\n",
                "Pour aller plus loin, il sera pertinent de r\u00e9fl\u00e9chir aux donn\u00e9es que vous voulez r\u00e9cup\u00e9rer et exploiter pour votre projet. Pour cela il sera utile d'effectuer les \u00e9tapes suivantes :\n",
                "\n",
                "<div style=\"background-color:#ded;padding:10px;border-radius:3px;margin-top:1.33em\">\n",
                "<b>TODO - Travail en groupe de projet </b>\n",
                "\n",
                "<ul>\n",
                "<li> analyser le contenu de l'infobox pays des pages wikip\u00e9dia pour retenir les informations qui vous int\u00e9ressent, et noter le nom de la cl\u00e9 de chacune de ces donn\u00e9es dans l'infobox,\n",
                "\n",
                "<li> sur le mod\u00e8le de <code>get_name()</code> et <code>get\\_capital()</code>, cr\u00e9er une fonction <code>get_\\*()</code> pour chacune des informations retenues pour extraire les donn\u00e9es correspondantes de l'infobox et les mettre en forme,\n",
                "\n",
                "<li> modifier la table \"countries\" pour ajouter les champs n\u00e9cessaires,\n",
                "\n",
                "<li> modifier la fonction <code>save_country</code> <i>(pour remplir la base en repartant d'une base vide)</i> ou cr\u00e9er une fonction <code>update_country</code> <i>(afin de compl\u00e9ter les enregistrements existants dans la base)</i> pour tenir compte de tous les champs.\n",
                "</ul>\n",
                "\n",
                "<p>\n",
                "<b>N.B.</b> Vous trouverez des informations plus d\u00e9taill\u00e9es sur cette d\u00e9marche, et notamment une liste de cl\u00e9s exploitables dans l'ensemble des infoboxes, dans le notebook d\u00e9di\u00e9 au projet.\n",
                "</div>\n",
                "\n",
                "<p>\n",
                "Apr\u00e8s avoir par exemple cr\u00e9\u00e9 un champ nomm\u00e9 \"continent\" dans la table \"countries\" :\n",
                "<p>\n",
                "<img src=\"table_countries_continent.png\" style=\"width:500px;border:1px solid #ccc; box-shadow:3px 3px 3px #888\">\n",
                "<div style=\"text-align:center; font-size:80%; margin-top:0.5em\">Table countries apr\u00e8s ajout du champ continent</div>\n",
                "\n",
                "... voici une fonction permettant d'ajouter le nom du continent \u00e0 un enregistrement d\u00e9j\u00e0 pr\u00e9sent dans la base :"
            ]
        },
        {
            "cell_type": "code",
            "execution_count": 21,
            "metadata": {
                "collapsed": true
            },
            "outputs": [],
            "source": [
                "#\n",
                "# Mise \u00e0 jour du continent d'un pays dans la base de donn\u00e9es \n",
                "#\n",
                "def update_country_continent(conn,country,continent):\n",
                "    \n",
                "    # pr\u00e9paration de la commande SQL\n",
                "    c = conn.cursor()\n",
                "    sql = 'UPDATE countries SET continent=? WHERE wp=?'\n",
                "\n",
                "    # soumission de la commande (noter que le second argument est un tuple)\n",
                "    c.execute(sql,(continent,country))\n",
                "    conn.commit()\n",
                "    \n"
            ]
        },
        {
            "cell_type": "code",
            "execution_count": 22,
            "metadata": {
                "collapsed": true,
                "util.bundle": "correcteur"
            },
            "outputs": [],
            "source": [
                "# votre code ici"
            ]
        },
        {
            "cell_type": "code",
            "execution_count": 23,
            "metadata": {
                "collapsed": true
            },
            "outputs": [],
            "source": []
        }
    ],
    "metadata": {
        "kernelspec": {
            "display_name": "Python 3",
            "language": "python",
            "name": "python3"
        },
        "language_info": {
            "codemirror_mode": {
                "name": "ipython",
                "version": 3
            },
            "file_extension": ".py",
            "mimetype": "text/x-python",
            "name": "python",
            "nbconvert_exporter": "python",
            "pygments_lexer": "ipython3",
            "version": "3.6.6"
        }
    },
    "nbformat": 4,
    "nbformat_minor": 2
}